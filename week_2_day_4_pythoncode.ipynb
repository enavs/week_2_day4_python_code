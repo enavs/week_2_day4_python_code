{
 "cells": [
  {
   "cell_type": "markdown",
   "metadata": {},
   "source": [
    "**Create a Letter Guessing Game**\n",
    "\n",
    "Create a program that allows a user 7 chances to guess the correct word. If they do not guess the word after 7 tries, the player loses and the program will print the correct word. Otherwise, the play wins and the game.\n",
    "\n",
    "**How to build the program**\n",
    "* When you start the game, you will need to select a random word from a list of at least 10 words (You have full control over which words you want to use for you program). This will be your secret word. Your secret word will be represented in the program as a group of underscores. For as long as the word is, you should also have that many underscores. \n",
    "\n",
    "* Once the word is selected, your game will commence. Perform a Google search to figure out how to select a random word from a list using Python.<br>\n",
    "**Hint** There's package you can import into your application that does this for you.\n",
    "\n",
    "* The end user will have a total of 7 chances to guess the correct letter from the secret word. If the end user makes 7 incorrect guesses, the game will end.\n",
    "\n",
    "* As you guess the correct letters, the letters you have guess will then take place of the underscores that letter represents. <br>\n",
    "**For Example**: If your secret word is 'watermelon' and  so far you have guessed the letters 'a' and 'e', the word you're trying to guess will appear as follows: _ a _ e _ _ e _ _ _.<br>\n",
    "**Keep in mind** that if you guess a letter that appears more than once in your secret word, make sure that the letter is populated anywhere that letter would be."
   ]
  },
  {
   "cell_type": "code",
   "execution_count": null,
   "metadata": {},
   "outputs": [],
   "source": []
  },
  {
   "cell_type": "code",
   "execution_count": 1,
   "metadata": {},
   "outputs": [
    {
     "name": "stdout",
     "output_type": "stream",
     "text": [
      "book\n",
      "Guess a letter: z\n",
      "Guess a letter. Type 'quit' to exit. z\n",
      "That's not the correct letter. Try again\n",
      "You guessed: z. You now have 7 guesses left.\n",
      "['_', '_', '_', '_']\n",
      "set()\n",
      "Guess a letter. Type 'quit' to exit. z\n",
      "That's not the correct letter. Try again\n",
      "You guessed: z. You now have 6 guesses left.\n",
      "['_', '_', '_', '_']\n",
      "set()\n",
      "Guess a letter. Type 'quit' to exit. a\n",
      "That's not the correct letter. Try again\n",
      "You guessed: z. You now have 5 guesses left.\n",
      "['_', '_', '_', '_']\n",
      "set()\n",
      "Guess a letter. Type 'quit' to exit. o\n",
      "Yes, you guessed a correct letter!\n",
      "You guessed: z. You now have 3 guesses left.\n",
      "['_', '_', '_', '_']\n",
      "set()\n",
      "Guess a letter. Type 'quit' to exit. b\n",
      "Yes, you guessed a correct letter!\n",
      "You guessed: z. You now have 2 guesses left.\n",
      "['_', '_', '_', '_']\n",
      "set()\n",
      "Guess a letter. Type 'quit' to exit. b\n",
      "Yes, you guessed a correct letter!\n",
      "You guessed: z. You now have 1 guesses left.\n",
      "['_', '_', '_', '_']\n",
      "set()\n",
      "Guess a letter. Type 'quit' to exit. o\n",
      "Yes, you guessed a correct letter!\n",
      "You guessed: z. You now have 0 guesses left.\n",
      "['_', '_', '_', '_']\n",
      "set()\n"
     ]
    }
   ],
   "source": [
    "#This selects a random word from the list of words I created\n",
    "def select_word(list):\n",
    "    random_word = ''\n",
    "\n",
    "    import random\n",
    "    random_nbr = random.randrange(len(list))\n",
    "    random_word = list[random_nbr]\n",
    "    return random_word\n",
    "    \n",
    "#This makes the random word chosen have an output of all underscores\n",
    "def make_underscores(random_word):\n",
    "    counter = len(random_word)\n",
    "    underscores = \"_ \"*counter\n",
    "    print(underscores)\n",
    "\n",
    "#This gives a count of letters of the random word selected\n",
    "def give_count_of_word(random_word):\n",
    "    counter = len(random_word)\n",
    "    return counter\n",
    "\n",
    "#This will output the location of the correct letter in the word\n",
    "def guessing_a_letter(user_guess_stuff):\n",
    "    user_guess_list = []\n",
    "    user_guess_list_final = set()\n",
    "\n",
    "    if user_guess_stuff in rando:\n",
    "        for index, value in enumerate(rando):\n",
    "            if user_guess_stuff == rando[index]:\n",
    "                user_guess_list.append(user_guess_stuff)\n",
    "                user_guess_list_final.add(user_guess_stuff)\n",
    "            else:\n",
    "                blank = '_'\n",
    "                user_guess_list.append(blank)\n",
    "        print(user_guess_list)\n",
    "        print(user_guess_list_final)\n",
    "\n",
    "    else:\n",
    "        for index, value in enumerate(rando):\n",
    "            if user_guess_stuff == rando[index]:\n",
    "                user_guess_list.append(user_guess_stuff)\n",
    "                user_guess_list_final.add(user_guess_stuff)\n",
    "            else:\n",
    "                blank = '_'\n",
    "                user_guess_list.append(blank)\n",
    "        print(user_guess_list)\n",
    "        print(user_guess_list_final)\n",
    "\n",
    "\n",
    "#This will perform a loop of guesses that displays a print for correct and incorrect guesses up to 7 times\n",
    "def guessed_word_in_list(word_from_list, user_guess_stuff):\n",
    "    word_guess_flag = True\n",
    "    counted = 7\n",
    "    \n",
    "    while word_guess_flag:\n",
    "        user_guess_stuff = input(\"Guess a letter. Type 'quit' to exit. \")\n",
    "\n",
    "        if user_guess_stuff == 'quit':\n",
    "            word_guess_flag = False\n",
    "            \n",
    "        if user_guess_stuff in word_from_list:\n",
    "            print('Yes, you guessed a correct letter!')\n",
    "            counted -=1\n",
    "            print(\"You guessed: {}. You now have {} guesses left.\".format(user_guess,counted))\n",
    "            guessing_a_letter(user_guess)\n",
    "            if counted == 0:\n",
    "                word_guess_flag = False\n",
    "\n",
    "        else: \n",
    "            print(\"That's not the correct letter. Try again\")\n",
    "            print(\"You guessed: {}. You now have {} guesses left.\".format(user_guess,counted))\n",
    "            guessing_a_letter(user_guess)\n",
    "            counted -=1\n",
    "            if counted == 0:\n",
    "                word_guess_flag = False\n",
    "\n",
    "list = ['cat', 'mango', 'table', 'tequila', 'phone', 'book', 'hat', 'window', 'meat', 'tree']\n",
    "#list = ['cat']\n",
    "\n",
    "\n",
    "rando = select_word(list)\n",
    "print(rando)\n",
    "user_guess = input(\"Guess a letter: \")\n",
    "guessed_word_in_list(rando, user_guess)\n"
   ]
  },
  {
   "cell_type": "code",
   "execution_count": null,
   "metadata": {},
   "outputs": [],
   "source": [
    "user_guess = input(\"Guess a letter: \")\n",
    "print(rando)\n",
    "guessing_a_letter(user_guess)"
   ]
  },
  {
   "cell_type": "code",
   "execution_count": null,
   "metadata": {},
   "outputs": [],
   "source": []
  },
  {
   "cell_type": "code",
   "execution_count": null,
   "metadata": {},
   "outputs": [],
   "source": []
  },
  {
   "cell_type": "code",
   "execution_count": 3,
   "metadata": {},
   "outputs": [],
   "source": [
    "#This selects a random word from the list of words I created\n",
    "def select_word(list):\n",
    "    random_word = ''\n",
    "\n",
    "    import random\n",
    "    random_nbr = random.randrange(len(list))\n",
    "    random_word = list[random_nbr]\n",
    "    return random_word\n",
    "    \n",
    "list = ['cat', 'mango', 'table', 'tequila', 'phone', 'book', 'hat', 'window', 'meat', 'tree']\n",
    "rando = select_word(list)"
   ]
  },
  {
   "cell_type": "code",
   "execution_count": 4,
   "metadata": {},
   "outputs": [
    {
     "name": "stdout",
     "output_type": "stream",
     "text": [
      "mango\n"
     ]
    }
   ],
   "source": [
    "print(rando)"
   ]
  },
  {
   "cell_type": "raw",
   "metadata": {},
   "source": []
  },
  {
   "cell_type": "code",
   "execution_count": 5,
   "metadata": {},
   "outputs": [
    {
     "name": "stdout",
     "output_type": "stream",
     "text": [
      "_ _ _ _ _ \n"
     ]
    }
   ],
   "source": [
    "#This makes the random word chosen have an output of all underscores\n",
    "def make_underscores(random_word):\n",
    "    counter = len(random_word)\n",
    "    underscores = \"_ \"*counter\n",
    "    print(underscores)\n",
    "make_underscores(rando)"
   ]
  },
  {
   "cell_type": "code",
   "execution_count": 6,
   "metadata": {},
   "outputs": [
    {
     "name": "stdout",
     "output_type": "stream",
     "text": [
      "5\n"
     ]
    }
   ],
   "source": [
    "#This gives a count of letters of the random word selected\n",
    "def give_count_of_word(random_word):\n",
    "    counter = len(random_word)\n",
    "    return counter\n",
    "print(give_count_of_word(rando))"
   ]
  },
  {
   "cell_type": "code",
   "execution_count": 7,
   "metadata": {},
   "outputs": [
    {
     "name": "stdout",
     "output_type": "stream",
     "text": [
      "You now have 6 guesses left.\n",
      "You now have 5 guesses left.\n",
      "You now have 4 guesses left.\n",
      "You now have 3 guesses left.\n",
      "You now have 2 guesses left.\n",
      "You now have 1 guesses left.\n",
      "You now have 0 guesses left.\n"
     ]
    }
   ],
   "source": [
    "#This gives a countdown of remaining attempts\n",
    "def counter_check():\n",
    "    check_flag = True\n",
    "    counted = 7\n",
    "    while check_flag:\n",
    "        counted -=1\n",
    "        print(\"You now have {} guesses left.\".format(counted))\n",
    "\n",
    "        if counted == 0:\n",
    "            check_flag = False\n",
    "counter_check()"
   ]
  },
  {
   "cell_type": "code",
   "execution_count": 8,
   "metadata": {},
   "outputs": [
    {
     "name": "stdout",
     "output_type": "stream",
     "text": [
      "Guess the word: i\n",
      "You guessed: i. You now have 6 guesses left.\n",
      "Guess the word: i\n",
      "You guessed: i. You now have 5 guesses left.\n",
      "Guess the word: i\n",
      "You guessed: i. You now have 4 guesses left.\n",
      "Guess the word: i\n",
      "You guessed: i. You now have 3 guesses left.\n",
      "Guess the word: i\n",
      "You guessed: i. You now have 2 guesses left.\n",
      "Guess the word: i\n",
      "You guessed: i. You now have 1 guesses left.\n",
      "Guess the word: i\n",
      "You guessed: i. You now have 0 guesses left.\n"
     ]
    }
   ],
   "source": [
    "#This gives a countdown of remaining attempts\n",
    "def counter_check():\n",
    "    check_flag = True\n",
    "    counted = 7\n",
    "    while check_flag:\n",
    "        user_guess = input(\"Guess the word: \")\n",
    "        counted -=1\n",
    "        print(\"You guessed: {}. You now have {} guesses left.\".format(user_guess,counted))\n",
    "\n",
    "        if counted == 0:\n",
    "            check_flag = False\n",
    "counter_check()"
   ]
  },
  {
   "cell_type": "code",
   "execution_count": null,
   "metadata": {},
   "outputs": [],
   "source": []
  },
  {
   "cell_type": "code",
   "execution_count": null,
   "metadata": {},
   "outputs": [],
   "source": []
  },
  {
   "cell_type": "code",
   "execution_count": null,
   "metadata": {},
   "outputs": [],
   "source": []
  },
  {
   "cell_type": "code",
   "execution_count": null,
   "metadata": {},
   "outputs": [],
   "source": []
  },
  {
   "cell_type": "code",
   "execution_count": null,
   "metadata": {},
   "outputs": [],
   "source": []
  },
  {
   "cell_type": "code",
   "execution_count": 105,
   "metadata": {},
   "outputs": [
    {
     "name": "stdout",
     "output_type": "stream",
     "text": [
      "Guess a letter: g\n",
      "mango\n",
      "Guess a letter. Type 'quit' to exit. g\n",
      "Yes, you guessed a correct letter!\n",
      "You guessed: g. You now have 6 guesses left.\n",
      "Guess a letter. Type 'quit' to exit. a\n",
      "Yes, you guessed a correct letter!\n",
      "You guessed: g. You now have 5 guesses left.\n",
      "Guess a letter. Type 'quit' to exit. e\n",
      "That's not the correct letter. Try again\n",
      "You guessed: g. You now have 5 guesses left.\n",
      "Guess a letter. Type 'quit' to exit. a\n",
      "Yes, you guessed a correct letter!\n",
      "You guessed: g. You now have 3 guesses left.\n",
      "Guess a letter. Type 'quit' to exit. a\n",
      "Yes, you guessed a correct letter!\n",
      "You guessed: g. You now have 2 guesses left.\n",
      "Guess a letter. Type 'quit' to exit. a\n",
      "Yes, you guessed a correct letter!\n",
      "You guessed: g. You now have 1 guesses left.\n",
      "Guess a letter. Type 'quit' to exit. a\n",
      "Yes, you guessed a correct letter!\n",
      "You guessed: g. You now have 0 guesses left.\n"
     ]
    }
   ],
   "source": [
    "#This will perform a loop of guesses that displays a print for correct and incorrect guesses\n",
    "user_guess = input(\"Guess a letter: \")\n",
    "\n",
    "def guessed_word_in_list(word_from_list, user_guess_stuff):\n",
    "    word_guess_flag = True\n",
    "    counted = 7\n",
    "    \n",
    "    while word_guess_flag:\n",
    "        user_guess_stuff = input(\"Guess a letter. Type 'quit' to exit. \")\n",
    "\n",
    "        if user_guess_stuff == 'quit':\n",
    "            word_guess_flag = False\n",
    "            \n",
    "        if user_guess_stuff in word_from_list:\n",
    "            print('Yes, you guessed a correct letter!')\n",
    "            counted -=1\n",
    "            print(\"You guessed: {}. You now have {} guesses left.\".format(user_guess,counted))\n",
    "            if counted == 0:\n",
    "                word_guess_flag = False\n",
    "\n",
    "        else: \n",
    "            print(\"That's not the correct letter. Try again\")\n",
    "            print(\"You guessed: {}. You now have {} guesses left.\".format(user_guess,counted))\n",
    "            counted -=1\n",
    "            if counted == 0:\n",
    "                word_guess_flag = False\n",
    "                \n",
    "print(rando)\n",
    "guessed_word_in_list(rando, user_guess)"
   ]
  },
  {
   "cell_type": "code",
   "execution_count": null,
   "metadata": {},
   "outputs": [],
   "source": []
  },
  {
   "cell_type": "code",
   "execution_count": null,
   "metadata": {},
   "outputs": [],
   "source": []
  },
  {
   "cell_type": "code",
   "execution_count": null,
   "metadata": {},
   "outputs": [],
   "source": []
  },
  {
   "cell_type": "code",
   "execution_count": null,
   "metadata": {},
   "outputs": [],
   "source": []
  },
  {
   "cell_type": "code",
   "execution_count": null,
   "metadata": {},
   "outputs": [],
   "source": []
  },
  {
   "cell_type": "code",
   "execution_count": null,
   "metadata": {},
   "outputs": [],
   "source": []
  },
  {
   "cell_type": "code",
   "execution_count": null,
   "metadata": {},
   "outputs": [],
   "source": []
  },
  {
   "cell_type": "code",
   "execution_count": null,
   "metadata": {},
   "outputs": [],
   "source": []
  },
  {
   "cell_type": "code",
   "execution_count": 19,
   "metadata": {},
   "outputs": [
    {
     "name": "stdout",
     "output_type": "stream",
     "text": [
      "Guess a letter: m\n",
      "yes\n",
      "correct word for 0 index with a letter of m\n",
      "_\n",
      "_\n",
      "_\n",
      "_\n"
     ]
    }
   ],
   "source": [
    "user_guess = input(\"Guess a letter: \")\n",
    "\n",
    "if user_guess in rando:\n",
    "    print(\"yes\")\n",
    "    \n",
    "    for index, value in enumerate(rando):\n",
    "        if user_guess == rando[index]:\n",
    "            print('correct word for {} index with a letter of {}'.format(index, value))\n",
    "        else:\n",
    "            print('_')\n",
    "\n",
    "else:\n",
    "    print(\"no\")"
   ]
  },
  {
   "cell_type": "code",
   "execution_count": null,
   "metadata": {},
   "outputs": [],
   "source": []
  },
  {
   "cell_type": "code",
   "execution_count": 109,
   "metadata": {},
   "outputs": [
    {
     "name": "stdout",
     "output_type": "stream",
     "text": [
      "Guess a letter: m\n",
      "['m', '_', '_', '_', '_']\n",
      "{'m'}\n"
     ]
    }
   ],
   "source": [
    "user_guess = input(\"Guess a letter: \")\n",
    "\n",
    "def guessing_a_letter(user_guess_stuff):\n",
    "    user_guess_list = []\n",
    "    user_guess_list_final = set()\n",
    "\n",
    "    if user_guess_stuff in rando:\n",
    "        for index, value in enumerate(rando):\n",
    "            if user_guess_stuff == rando[index]:\n",
    "                user_guess_list.append(user_guess_stuff)\n",
    "                user_guess_list_final.add(user_guess_stuff)\n",
    "            else:\n",
    "                blank = '_'\n",
    "                user_guess_list.append(blank)\n",
    "        print(user_guess_list)\n",
    "        print(user_guess_list_final)\n",
    "\n",
    "    else:\n",
    "        for index, value in enumerate(rando):\n",
    "            if user_guess_stuff == rando[index]:\n",
    "                user_guess_list.append(user_guess_stuff)\n",
    "                user_guess_list_final.add(user_guess_stuff)\n",
    "            else:\n",
    "                blank = '_'\n",
    "                user_guess_list.append(blank)\n",
    "        print(user_guess_list)\n",
    "        print(user_guess_list_final)\n",
    "guessing_a_letter(user_guess)"
   ]
  },
  {
   "cell_type": "code",
   "execution_count": 102,
   "metadata": {},
   "outputs": [
    {
     "name": "stdout",
     "output_type": "stream",
     "text": [
      "[{'g', 'o', 'm', 'n', 'a'}, '_', '_', '_', '_', 'o']\n",
      "{'g', 'o', 'm', 'n', 'a'}\n"
     ]
    }
   ],
   "source": [
    "print(user_guess_list)\n",
    "print(user_guess_list_final)"
   ]
  },
  {
   "cell_type": "markdown",
   "metadata": {},
   "source": [
    "user_guess = input(\"Guess a letter: \")\n",
    "user_guess_list = [user_guess_list_final]\n",
    "\n",
    "if user_guess in rando:\n",
    "    for index, value in enumerate(rando):\n",
    "        if user_guess == rando[index]:\n",
    "            user_guess_list.append(user_guess)\n",
    "            user_guess_list_final.add(user_guess)\n",
    "        else:\n",
    "            blank = '_'\n",
    "            user_guess_list.append(blank)\n",
    "    print(user_guess_list)\n",
    "    print(user_guess_list_final)\n",
    "\n",
    "else:\n",
    "    for index, value in enumerate(rando):\n",
    "        if user_guess == rando[index]:\n",
    "            user_guess_list.append(user_guess)\n",
    "            user_guess_list_final.add(user_guess)\n",
    "        else:\n",
    "            blank = '_'\n",
    "            user_guess_list.append(blank)\n",
    "    print(user_guess_list)\n",
    "    print(user_guess_list_final)\n"
   ]
  },
  {
   "cell_type": "code",
   "execution_count": null,
   "metadata": {},
   "outputs": [],
   "source": [
    "print(user_guess_list)\n",
    "print(user_guess_list_final)"
   ]
  },
  {
   "cell_type": "code",
   "execution_count": 77,
   "metadata": {},
   "outputs": [
    {
     "name": "stdout",
     "output_type": "stream",
     "text": [
      "Guess a letter: o\n",
      "[{'g', 'o', 'm', 'n', 'a'}, '_', '_', '_', '_', 'o']\n",
      "{'g', 'o', 'm', 'n', 'a'}\n"
     ]
    }
   ],
   "source": []
  },
  {
   "cell_type": "code",
   "execution_count": null,
   "metadata": {},
   "outputs": [],
   "source": []
  },
  {
   "cell_type": "code",
   "execution_count": null,
   "metadata": {},
   "outputs": [],
   "source": []
  },
  {
   "cell_type": "code",
   "execution_count": null,
   "metadata": {},
   "outputs": [],
   "source": []
  },
  {
   "cell_type": "code",
   "execution_count": null,
   "metadata": {},
   "outputs": [],
   "source": []
  },
  {
   "cell_type": "code",
   "execution_count": null,
   "metadata": {},
   "outputs": [],
   "source": []
  },
  {
   "cell_type": "code",
   "execution_count": null,
   "metadata": {},
   "outputs": [],
   "source": []
  },
  {
   "cell_type": "code",
   "execution_count": null,
   "metadata": {},
   "outputs": [],
   "source": [
    "list = ['cat', 'mango', 'table', 'tequila', 'phone', 'book', 'hat', 'window', 'meat', 'tree']\n",
    "#list = ['cat']\n",
    "\n",
    "#This selects a random word from the list of words I created\n",
    "def select_word(list):\n",
    "    random_word = ''\n",
    "\n",
    "    import random\n",
    "    random_nbr = random.randrange(len(list))\n",
    "    random_word = list[random_nbr]\n",
    "    return random_word\n",
    "    \n",
    "#This makes the random word chosen have an output of all underscores\n",
    "def make_underscores(random_word):\n",
    "    counter = len(random_word)\n",
    "    underscores = \"_ \"*counter\n",
    "    print(underscores)\n",
    "\n",
    "#This gives a count of letters of the random word selected\n",
    "def give_count_of_word(random_word):\n",
    "    counter = len(random_word)\n",
    "    return counter\n",
    "    \n",
    "#This will perform a loop of guesses that displays a print for correct and incorrect guesses\n",
    "def guessed_word_in_list(word_from_list):\n",
    "    word_guess_flag = True\n",
    "    counted = 7\n",
    "    \n",
    "    while word_guess_flag:\n",
    "        user_guess = input(\"Guess a letter. Type 'quit' to exit. \")\n",
    "\n",
    "        if user_guess == 'quit':\n",
    "            word_guess_flag = False\n",
    "            \n",
    "        if user_guess in word_from_list:\n",
    "            print('Yes, you guessed a correct letter!')\n",
    "            counted -=1\n",
    "            print(\"You guessed: {}. You now have {} guesses left.\".format(user_guess,counted))\n",
    "            if counted == 0:\n",
    "                word_guess_flag = False\n",
    "\n",
    "        else: \n",
    "            print(\"That's not the correct letter. Try again\")\n",
    "            print(\"You guessed: {}. You now have {} guesses left.\".format(user_guess,counted))\n",
    "            counted -=1\n",
    "            if counted == 0:\n",
    "                word_guess_flag = False\n",
    "                \n",
    "print(rando)\n",
    "guessed_word_in_list(rando)\n",
    "\n",
    "flag = True\n",
    "while flag:\n",
    "    user_input = input(\"Hello, wanna play a game? Type 'start' to play.  Press 'quit' to exit.\").lower()\n",
    "    print(\"=\"*80)\n",
    "\n",
    "    if user_input == 'start':\n",
    "        print(\"Alright let's play! A random word has been generated for you.\")\n",
    "        rando = select_word(list)\n",
    "        print(rando)\n",
    "        print(make_underscores(rando))\n",
    "        print(\"This word has {} letters in it\".format(give_count_of_word(rando)))\n",
    "\n",
    "        user_guess = input(\"Guess a letter: \")\n",
    "        \n",
    "        if user_guess in rando:\n",
    "            print(\"yes\")\n",
    "            for index, value in enumerate(rando):\n",
    "                if user_guess == rando[index]:\n",
    "                    print('hello', index, value)\n",
    "                else:\n",
    "                    print('noper')\n",
    "            continue\n",
    "            \n",
    "        else:\n",
    "            print(\"no\")\n",
    "        \n",
    "        continue\n",
    "    elif user_input == 'quit':\n",
    "        flag = False\n",
    "    else:\n",
    "        print('Sorry that is not a valid option. Try again.')"
   ]
  },
  {
   "cell_type": "code",
   "execution_count": null,
   "metadata": {},
   "outputs": [],
   "source": []
  },
  {
   "cell_type": "code",
   "execution_count": 31,
   "metadata": {},
   "outputs": [
    {
     "name": "stdout",
     "output_type": "stream",
     "text": [
      "What letter would you like to guess?: t\n",
      "a\n",
      "a\n",
      "_\n"
     ]
    },
    {
     "data": {
      "text/plain": [
       "False"
      ]
     },
     "execution_count": 31,
     "metadata": {},
     "output_type": "execute_result"
    }
   ],
   "source": [
    "import random\n",
    "\n",
    "def intro():\n",
    "    print(':+'*50)\n",
    "    print(\"\"\"          Welcome to Guess The Word\"\"\")\n",
    "    print(':+'*50)\n",
    "# Splitting the letters in a word\n",
    "def split(word):\n",
    "    return [char for char in word]\n",
    "\n",
    "#replaces Word needed to all underscores\n",
    "def make_list_underscore(w_list):\n",
    "    new_list = []\n",
    "    for i in range(len(w_list)):\n",
    "        new_list.append(w_list[i])\n",
    "    for i in range(len(new_list)):\n",
    "        new_list[i] = '_'\n",
    "    return new_list\n",
    "\n",
    "def show_current(word, guessed_list):\n",
    "    new_display= {}\n",
    "    for letter in word:\n",
    "        if letter in guessed_list:\n",
    "            new_display.append(letter)\n",
    "        else:\n",
    "            new_display.append(\"_\")\n",
    "    print (\" \".join(new_display))    \n",
    "    \n",
    "#User input. Returns the under_score list with the correct letters guessed.\n",
    "def guess(underscore_list,w_list):\n",
    "    u_input = input(\"What letter would you like to guess?: \").lower\n",
    "    for k in range(len(underscore_list)):\n",
    "        for i in w_list:\n",
    "            if u_input == i and underscore_list[k] != w_list[k]:\n",
    "                underscore_list[k] = w_list[k]\n",
    "            elif u_input != i:\n",
    "                print(i)\n",
    "                print(w_list[k])\n",
    "                print(underscore_list[k])\n",
    "                return False\n",
    "            else:\n",
    "                print(\"You already entered that letter. Try again.\")\n",
    "    return underscore_list[k]\n",
    "            \n",
    "\n",
    "def get_new_word(w_list):\n",
    "# takes a random word in a list and word_guess is that random word.\n",
    "    r_num = random.randrange(len(w_list))\n",
    "    word_guess = w_list[r_num]\n",
    "    word_guess_list = split(word_guess)\n",
    "    return word_guess_list\n",
    "    \n",
    "\n",
    "wordlist = ['cat', 'dog', 'apple', 'program', 'python', 'lawyer', 'anaconda', 'starter', 'water']\n",
    "\n",
    "new_word = get_new_word(wordlist)\n",
    "under_word = make_list_underscore(new_word)\n",
    "guess(under_word,new_word)\n",
    "\n",
    "\n",
    "\n",
    "\n",
    "\n",
    "\n",
    "\n",
    "\n"
   ]
  },
  {
   "cell_type": "code",
   "execution_count": null,
   "metadata": {},
   "outputs": [],
   "source": []
  }
 ],
 "metadata": {
  "kernelspec": {
   "display_name": "Python 3",
   "language": "python",
   "name": "python3"
  },
  "language_info": {
   "codemirror_mode": {
    "name": "ipython",
    "version": 3
   },
   "file_extension": ".py",
   "mimetype": "text/x-python",
   "name": "python",
   "nbconvert_exporter": "python",
   "pygments_lexer": "ipython3",
   "version": "3.8.5"
  }
 },
 "nbformat": 4,
 "nbformat_minor": 2
}
